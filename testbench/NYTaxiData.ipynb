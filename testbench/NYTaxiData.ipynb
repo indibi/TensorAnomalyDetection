{
 "cells": [
  {
   "attachments": {},
   "cell_type": "markdown",
   "metadata": {},
   "source": [
    "# New york taxi data web scraping"
   ]
  },
  {
   "cell_type": "code",
   "execution_count": 2,
   "metadata": {},
   "outputs": [
    {
     "name": "stdout",
     "output_type": "stream",
     "text": [
      "1.5.2\n"
     ]
    }
   ],
   "source": [
    "import pandas as pd\n",
    "print(pd.__version__)"
   ]
  },
  {
   "cell_type": "code",
   "execution_count": 4,
   "metadata": {},
   "outputs": [],
   "source": [
    "df = pd.read_json(\"https://data.smcgov.org/resource/mb6a-xn89.json\")"
   ]
  },
  {
   "cell_type": "code",
   "execution_count": 7,
   "metadata": {},
   "outputs": [
    {
     "data": {
      "text/html": [
       "<div>\n",
       "<style scoped>\n",
       "    .dataframe tbody tr th:only-of-type {\n",
       "        vertical-align: middle;\n",
       "    }\n",
       "\n",
       "    .dataframe tbody tr th {\n",
       "        vertical-align: top;\n",
       "    }\n",
       "\n",
       "    .dataframe thead th {\n",
       "        text-align: right;\n",
       "    }\n",
       "</style>\n",
       "<table border=\"1\" class=\"dataframe\">\n",
       "  <thead>\n",
       "    <tr style=\"text-align: right;\">\n",
       "      <th></th>\n",
       "      <th>less_than_high_school_graduate</th>\n",
       "      <th>high_school_graduate</th>\n",
       "      <th>some_college_or_associate_s_degree</th>\n",
       "      <th>bachelor_s_degree_or_higher</th>\n",
       "      <th>:@computed_region_uph5_8hpn</th>\n",
       "      <th>:@computed_region_i2t2_cryp</th>\n",
       "    </tr>\n",
       "  </thead>\n",
       "  <tbody>\n",
       "    <tr>\n",
       "      <th>count</th>\n",
       "      <td>32.00000</td>\n",
       "      <td>32.000000</td>\n",
       "      <td>32.000000</td>\n",
       "      <td>32.000000</td>\n",
       "      <td>30.000000</td>\n",
       "      <td>32.000000</td>\n",
       "    </tr>\n",
       "    <tr>\n",
       "      <th>mean</th>\n",
       "      <td>17.80000</td>\n",
       "      <td>6.462500</td>\n",
       "      <td>5.946875</td>\n",
       "      <td>2.856250</td>\n",
       "      <td>17.733333</td>\n",
       "      <td>25062.093750</td>\n",
       "    </tr>\n",
       "    <tr>\n",
       "      <th>std</th>\n",
       "      <td>19.29944</td>\n",
       "      <td>4.693905</td>\n",
       "      <td>4.728430</td>\n",
       "      <td>1.873919</td>\n",
       "      <td>9.762466</td>\n",
       "      <td>9502.711577</td>\n",
       "    </tr>\n",
       "    <tr>\n",
       "      <th>min</th>\n",
       "      <td>0.00000</td>\n",
       "      <td>0.000000</td>\n",
       "      <td>0.000000</td>\n",
       "      <td>0.000000</td>\n",
       "      <td>1.000000</td>\n",
       "      <td>312.000000</td>\n",
       "    </tr>\n",
       "    <tr>\n",
       "      <th>25%</th>\n",
       "      <td>6.82500</td>\n",
       "      <td>1.925000</td>\n",
       "      <td>2.525000</td>\n",
       "      <td>2.100000</td>\n",
       "      <td>9.500000</td>\n",
       "      <td>28587.750000</td>\n",
       "    </tr>\n",
       "    <tr>\n",
       "      <th>50%</th>\n",
       "      <td>13.90000</td>\n",
       "      <td>7.750000</td>\n",
       "      <td>5.500000</td>\n",
       "      <td>3.000000</td>\n",
       "      <td>18.500000</td>\n",
       "      <td>28595.000000</td>\n",
       "    </tr>\n",
       "    <tr>\n",
       "      <th>75%</th>\n",
       "      <td>20.97500</td>\n",
       "      <td>9.450000</td>\n",
       "      <td>8.800000</td>\n",
       "      <td>3.600000</td>\n",
       "      <td>25.750000</td>\n",
       "      <td>28604.250000</td>\n",
       "    </tr>\n",
       "    <tr>\n",
       "      <th>max</th>\n",
       "      <td>100.00000</td>\n",
       "      <td>16.400000</td>\n",
       "      <td>18.500000</td>\n",
       "      <td>9.100000</td>\n",
       "      <td>34.000000</td>\n",
       "      <td>28613.000000</td>\n",
       "    </tr>\n",
       "  </tbody>\n",
       "</table>\n",
       "</div>"
      ],
      "text/plain": [
       "       less_than_high_school_graduate  high_school_graduate  \\\n",
       "count                        32.00000             32.000000   \n",
       "mean                         17.80000              6.462500   \n",
       "std                          19.29944              4.693905   \n",
       "min                           0.00000              0.000000   \n",
       "25%                           6.82500              1.925000   \n",
       "50%                          13.90000              7.750000   \n",
       "75%                          20.97500              9.450000   \n",
       "max                         100.00000             16.400000   \n",
       "\n",
       "       some_college_or_associate_s_degree  bachelor_s_degree_or_higher  \\\n",
       "count                           32.000000                    32.000000   \n",
       "mean                             5.946875                     2.856250   \n",
       "std                              4.728430                     1.873919   \n",
       "min                              0.000000                     0.000000   \n",
       "25%                              2.525000                     2.100000   \n",
       "50%                              5.500000                     3.000000   \n",
       "75%                              8.800000                     3.600000   \n",
       "max                             18.500000                     9.100000   \n",
       "\n",
       "       :@computed_region_uph5_8hpn  :@computed_region_i2t2_cryp  \n",
       "count                    30.000000                    32.000000  \n",
       "mean                     17.733333                 25062.093750  \n",
       "std                       9.762466                  9502.711577  \n",
       "min                       1.000000                   312.000000  \n",
       "25%                       9.500000                 28587.750000  \n",
       "50%                      18.500000                 28595.000000  \n",
       "75%                      25.750000                 28604.250000  \n",
       "max                      34.000000                 28613.000000  "
      ]
     },
     "execution_count": 7,
     "metadata": {},
     "output_type": "execute_result"
    }
   ],
   "source": [
    "df.describe()"
   ]
  }
 ],
 "metadata": {
  "kernelspec": {
   "display_name": "base",
   "language": "python",
   "name": "python3"
  },
  "language_info": {
   "codemirror_mode": {
    "name": "ipython",
    "version": 3
   },
   "file_extension": ".py",
   "mimetype": "text/x-python",
   "name": "python",
   "nbconvert_exporter": "python",
   "pygments_lexer": "ipython3",
   "version": "3.9.12"
  },
  "orig_nbformat": 4,
  "vscode": {
   "interpreter": {
    "hash": "631039462fcc19d8762479a0537f3bd261d25810c651977aced36dc221f685a6"
   }
  }
 },
 "nbformat": 4,
 "nbformat_minor": 2
}
